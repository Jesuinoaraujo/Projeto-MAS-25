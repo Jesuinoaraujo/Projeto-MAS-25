{
 "cells": [
  {
   "cell_type": "markdown",
   "metadata": {},
   "source": [
    "# Baixar e Preparar os Dados do Kaggle\n",
    "Este notebook baixa o conjunto de dados do Kaggle e descompacta os arquivos para análise posterior."
   ]
  },
  {
   "cell_type": "code",
   "execution_count": 1,
   "metadata": {},
   "outputs": [
    {
     "name": "stdout",
     "output_type": "stream",
     "text": [
      "Baixando o conjunto de dados do Kaggle...\n",
      "Dataset URL: https://www.kaggle.com/datasets/utkarshx27/non-alcohol-fatty-liver-disease\n",
      "Descompactando os dados...\n"
     ]
    }
   ],
   "source": [
    "import os\n",
    "import zipfile\n",
    "from kaggle.api.kaggle_api_extended import KaggleApi\n",
    "\n",
    "# Configurações para a API do Kaggle\n",
    "api = KaggleApi()\n",
    "api.authenticate()\n",
    "\n",
    "# Diretório de destino\n",
    "kaggle_dataset = \"utkarshx27/non-alcohol-fatty-liver-disease\"\n",
    "destination_path = \"../data\"\n",
    "zip_file_path = os.path.join(destination_path, \"non-alcohol-fatty-liver-disease.zip\")\n",
    "\n",
    "# Baixar os dados\n",
    "print(\"Baixando o conjunto de dados do Kaggle...\")\n",
    "api.dataset_download_files(kaggle_dataset, path=destination_path, unzip=False)\n",
    "\n",
    "# Verificar e descompactar\n",
    "print(\"Descompactando os dados...\")\n",
    "with zipfile.ZipFile(zip_file_path, 'r') as zip_ref:\n",
    "    zip_ref.extractall(destination_path)"
   ]
  },
  {
   "cell_type": "code",
   "execution_count": 2,
   "metadata": {},
   "outputs": [
    {
     "name": "stdout",
     "output_type": "stream",
     "text": [
      "['notebooks', 'nwtco.csv', 'nafld1.csv', 'nafld2.csv', 'non-alcohol-fatty-liver-disease.zip']\n"
     ]
    }
   ],
   "source": [
    "# Verificar os arquivos extraídos na pasta\n",
    "print(os.listdir(\"../data\"))\n"
   ]
  }
 ],
 "metadata": {
  "kernelspec": {
   "display_name": "venv",
   "language": "python",
   "name": "python3"
  },
  "language_info": {
   "codemirror_mode": {
    "name": "ipython",
    "version": 3
   },
   "file_extension": ".py",
   "mimetype": "text/x-python",
   "name": "python",
   "nbconvert_exporter": "python",
   "pygments_lexer": "ipython3",
   "version": "3.12.3"
  }
 },
 "nbformat": 4,
 "nbformat_minor": 2
}
