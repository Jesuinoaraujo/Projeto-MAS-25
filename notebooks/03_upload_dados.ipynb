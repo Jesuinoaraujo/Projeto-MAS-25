{
 "cells": [
  {
   "cell_type": "markdown",
   "metadata": {},
   "source": [
    "# Notebook: 03_upload_dados.ipynb\n",
    "\n",
    "Este notebook faz o upload dos arquivos CSV descompactados (`nafld1.csv`, `nafld2.csv`, `nwtco.csv`) para o bucket `raw` no MinIO.\n",
    "\n",
    "A etapa é fundamental para carregar os dados no pipeline e organizá-los no bucket inicial (`raw`), onde estarão disponíveis para transformações posteriores."
   ]
  },
  {
   "cell_type": "code",
   "execution_count": 1,
   "metadata": {},
   "outputs": [
    {
     "name": "stdout",
     "output_type": "stream",
     "text": [
      "Arquivo 'nwtco.csv' carregado com sucesso para o bucket 'raw'.\n",
      "Arquivo 'nafld1.csv' carregado com sucesso para o bucket 'raw'.\n",
      "Arquivo 'nafld2.csv' carregado com sucesso para o bucket 'raw'.\n"
     ]
    }
   ],
   "source": [
    "import os\n",
    "import boto3\n",
    "\n",
    "# Configurar conexão com MinIO\n",
    "s3 = boto3.client(\n",
    "    's3',\n",
    "    endpoint_url='http://localhost:9000',\n",
    "    aws_access_key_id='minio',\n",
    "    aws_secret_access_key='minio123'\n",
    ")\n",
    "\n",
    "# Diretório contendo os arquivos CSV descompactados\n",
    "data_path = \"../data\"\n",
    "\n",
    "# Lista de arquivos CSV para upload\n",
    "csv_files = [f for f in os.listdir(data_path) if f.endswith(\".csv\")]\n",
    "\n",
    "# Fazer o upload de cada arquivo para o bucket 'raw'\n",
    "for csv_file in csv_files:\n",
    "    file_path = os.path.join(data_path, csv_file)\n",
    "    try:\n",
    "        s3.upload_file(file_path, \"raw\", csv_file)\n",
    "        print(f\"Arquivo '{csv_file}' carregado com sucesso para o bucket 'raw'.\")\n",
    "    except Exception as e:\n",
    "        print(f\"Erro ao carregar o arquivo '{csv_file}': {e}\")"
   ]
  },
  {
   "cell_type": "markdown",
   "metadata": {},
   "source": [
    "## Conclusão\n",
    "\n",
    "Os arquivos CSV foram carregados com sucesso no bucket `raw`. Acesse a interface do MinIO (http://localhost:9001) para verificar os arquivos no bucket.\n",
    "\n",
    "Agora, os dados estão prontos para serem transformados e movidos para o bucket `bronze`. Prossiga para o próximo notebook para iniciar o processamento dos dados."
   ]
  }
 ],
 "metadata": {
  "kernelspec": {
   "display_name": "venv",
   "language": "python",
   "name": "python3"
  },
  "language_info": {
   "codemirror_mode": {
    "name": "ipython",
    "version": 3
   },
   "file_extension": ".py",
   "mimetype": "text/x-python",
   "name": "python",
   "nbconvert_exporter": "python",
   "pygments_lexer": "ipython3",
   "version": "3.12.3"
  }
 },
 "nbformat": 4,
 "nbformat_minor": 2
}
