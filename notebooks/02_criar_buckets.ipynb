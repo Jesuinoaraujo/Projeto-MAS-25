{
 "cells": [
  {
   "cell_type": "markdown",
   "metadata": {},
   "source": [
    "# Notebook: 02_criar_buckets.ipynb\n",
    "\n",
    "Este notebook tem como objetivo **verificar a existência dos buckets** `raw`, `bronze`, `silver` e `gold` no MinIO. \n",
    "\n",
    "Os buckets foram previamente criados utilizando o cliente `mc` do MinIO no terminal. Este notebook serve para garantir que os buckets necessários já estão configurados e disponíveis para o pipeline de dados, que organiza o fluxo de transformação.\n",
    "## Detalhes sobre a criação dos buckets\n",
    "\n",
    "Os buckets foram criados previamente com o cliente `mc` do MinIO. Aqui está o comando utilizado no terminal para referência:\n",
    "\n",
    "```bash\n",
    "mc alias set local http://localhost:9000 minio minio123\n",
    "mc mb local/raw\n",
    "mc mb local/bronze\n",
    "mc mb local/silver\n",
    "mc mb local/gold\n",
    "\n",
    "---\n"
   ]
  },
  {
   "cell_type": "code",
   "execution_count": 4,
   "metadata": {},
   "outputs": [
    {
     "name": "stdout",
     "output_type": "stream",
     "text": [
      "Bucket 'raw' já existe.\n",
      "Bucket 'bronze' já existe.\n",
      "Bucket 'silver' já existe.\n",
      "Bucket 'gold' já existe.\n"
     ]
    }
   ],
   "source": [
    "import boto3\n",
    "\n",
    "# Configurar conexão com MinIO\n",
    "s3 = boto3.client(\n",
    "    's3',\n",
    "    endpoint_url='http://localhost:9000',\n",
    "    aws_access_key_id='minio',\n",
    "    aws_secret_access_key='minio123'\n",
    ")\n",
    "\n",
    "# Lista de buckets a serem criados\n",
    "buckets = [\"raw\", \"bronze\", \"silver\", \"gold\"]\n",
    "\n",
    "# Função para verificar se o bucket já existe\n",
    "def bucket_existe(bucket_name):\n",
    "    try:\n",
    "        s3.head_bucket(Bucket=bucket_name)\n",
    "        return True\n",
    "    except Exception:\n",
    "        return False\n",
    "\n",
    "# Criar os buckets, se ainda não existirem\n",
    "for bucket in buckets:\n",
    "    if bucket_existe(bucket):\n",
    "        print(f\"Bucket '{bucket}' já existe.\")\n",
    "    else:\n",
    "        try:\n",
    "            s3.create_bucket(Bucket=bucket)\n",
    "            print(f\"Bucket '{bucket}' criado com sucesso!\")\n",
    "        except Exception as e:\n",
    "            print(f\"Erro ao criar o bucket '{bucket}': {e}\")\n"
   ]
  }
 ],
 "metadata": {
  "kernelspec": {
   "display_name": "venv",
   "language": "python",
   "name": "python3"
  },
  "language_info": {
   "codemirror_mode": {
    "name": "ipython",
    "version": 3
   },
   "file_extension": ".py",
   "mimetype": "text/x-python",
   "name": "python",
   "nbconvert_exporter": "python",
   "pygments_lexer": "ipython3",
   "version": "3.12.3"
  }
 },
 "nbformat": 4,
 "nbformat_minor": 2
}
